{
 "cells": [
  {
   "cell_type": "code",
   "execution_count": 1,
   "id": "finished-defense",
   "metadata": {},
   "outputs": [
    {
     "name": "stdout",
     "output_type": "stream",
     "text": [
      "['/Users/Jasmina/hacks/hack-7-scripting', '/Users/Jasmina/miniconda3/lib/python38.zip', '/Users/Jasmina/miniconda3/lib/python3.8', '/Users/Jasmina/miniconda3/lib/python3.8/lib-dynload', '', '/Users/Jasmina/miniconda3/lib/python3.8/site-packages', '/Users/Jasmina/Documents/kmerkit', '/Users/Jasmina/miniconda3/lib/python3.8/site-packages/IPython/extensions', '/Users/Jasmina/.ipython']\n"
     ]
    }
   ],
   "source": [
    "# import sys from the standard lib\n",
    "import sys\n",
    "print(sys.path)"
   ]
  },
  {
   "cell_type": "code",
   "execution_count": 2,
   "id": "revolutionary-princeton",
   "metadata": {},
   "outputs": [
    {
     "name": "stdout",
     "output_type": "stream",
     "text": [
      "['/Users/Jasmina/hacks/hack-7-scripting', '/Users/Jasmina/miniconda3/lib/python38.zip', '/Users/Jasmina/miniconda3/lib/python3.8', '/Users/Jasmina/miniconda3/lib/python3.8/lib-dynload', '', '/Users/Jasmina/miniconda3/lib/python3.8/site-packages', '/Users/Jasmina/Documents/kmerkit', '/Users/Jasmina/miniconda3/lib/python3.8/site-packages/IPython/extensions', '/Users/Jasmina/.ipython', '../']\n"
     ]
    }
   ],
   "source": [
    "import sys\n",
    "\n",
    "# append your current parent dir to the sys.path list\n",
    "sys.path.append(\"../\")\n",
    "\n",
    "# show the updated sys.path \n",
    "print(sys.path)"
   ]
  },
  {
   "cell_type": "code",
   "execution_count": 3,
   "id": "controlling-professional",
   "metadata": {},
   "outputs": [
    {
     "data": {
      "text/plain": [
       "'Without a doubt.'"
      ]
     },
     "execution_count": 3,
     "metadata": {},
     "output_type": "execute_result"
    }
   ],
   "source": [
    "import mypackage.mymodule\n",
    "mypackage.mymodule.magic_eight_ball()"
   ]
  },
  {
   "cell_type": "code",
   "execution_count": 4,
   "id": "demonstrated-circumstances",
   "metadata": {},
   "outputs": [
    {
     "data": {
      "text/plain": [
       "'Reply hazy, try again.'"
      ]
     },
     "execution_count": 4,
     "metadata": {},
     "output_type": "execute_result"
    }
   ],
   "source": [
    "from mypackage import mymodule\n",
    "mymodule.magic_eight_ball()"
   ]
  },
  {
   "cell_type": "code",
   "execution_count": 5,
   "id": "central-worse",
   "metadata": {},
   "outputs": [
    {
     "data": {
      "text/plain": [
       "'Yes – definitely.'"
      ]
     },
     "execution_count": 5,
     "metadata": {},
     "output_type": "execute_result"
    }
   ],
   "source": [
    "from mypackage.mymodule import magic_eight_ball\n",
    "magic_eight_ball()"
   ]
  },
  {
   "cell_type": "code",
   "execution_count": 6,
   "id": "sought-jamaica",
   "metadata": {},
   "outputs": [
    {
     "data": {
      "text/plain": [
       "'Reply hazy, try again.'"
      ]
     },
     "execution_count": 6,
     "metadata": {},
     "output_type": "execute_result"
    }
   ],
   "source": [
    "# this workflow is not yet supported\n",
    "import mypackage\n",
    "mypackage.mymodule.magic_eight_ball()"
   ]
  },
  {
   "cell_type": "code",
   "execution_count": 1,
   "id": "secret-bouquet",
   "metadata": {},
   "outputs": [],
   "source": [
    "# add our local package scope to sys.path\n",
    "import sys\n",
    "sys.path.append(\"..\")\n",
    "\n",
    "# access our module function from the package-level import\n",
    "import mypackage\n",
    "mypackage.mymodule.magic_eight_ball()\n",
    "\n",
    "# show the package-level docstring\n",
    "mypackage?"
   ]
  },
  {
   "cell_type": "code",
   "execution_count": null,
   "id": "harmful-parent",
   "metadata": {},
   "outputs": [],
   "source": []
  }
 ],
 "metadata": {
  "kernelspec": {
   "display_name": "Python 3",
   "language": "python",
   "name": "python3"
  },
  "language_info": {
   "codemirror_mode": {
    "name": "ipython",
    "version": 3
   },
   "file_extension": ".py",
   "mimetype": "text/x-python",
   "name": "python",
   "nbconvert_exporter": "python",
   "pygments_lexer": "ipython3",
   "version": "3.8.5"
  }
 },
 "nbformat": 4,
 "nbformat_minor": 5
}
